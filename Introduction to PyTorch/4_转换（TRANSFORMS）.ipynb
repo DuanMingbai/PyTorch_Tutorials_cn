{
  "nbformat": 4,
  "nbformat_minor": 0,
  "metadata": {
    "colab": {
      "provenance": [],
      "collapsed_sections": [
        "OwIcdx83SfER",
        "COtY01jAVRZR"
      ],
      "authorship_tag": "ABX9TyMhqZ+Co1xHdxBTPjlmMM7g",
      "include_colab_link": true
    },
    "kernelspec": {
      "name": "python3",
      "display_name": "Python 3"
    },
    "language_info": {
      "name": "python"
    }
  },
  "cells": [
    {
      "cell_type": "markdown",
      "metadata": {
        "id": "view-in-github",
        "colab_type": "text"
      },
      "source": [
        "<a href=\"https://colab.research.google.com/github/DuanMingbai/PyTorch_Tutorials_cn/blob/main/Introduction%20to%20PyTorch/4_%E8%BD%AC%E6%8D%A2%EF%BC%88TRANSFORMS%EF%BC%89.ipynb\" target=\"_parent\"><img src=\"https://colab.research.google.com/assets/colab-badge.svg\" alt=\"Open In Colab\"/></a>"
      ]
    },
    {
      "cell_type": "markdown",
      "source": [
        "#转换（TRANSFORMS）\n"
      ],
      "metadata": {
        "id": "fhEQTRCpGURO"
      }
    },
    {
      "cell_type": "markdown",
      "source": [
        "数据并不总是以训练机器学习算法所需的最终处理形式出现，我们使用**transform**去执行一些操作，让数据更适合训练。\n",
        "\n",
        "\\\\\n",
        "所有TorchVision的数据集都有两个参数，```transform```和```target_transform```，```transform```用来修改特征，```target_transform```用来修改标签-接受包含转换逻辑的可调用对象。[torchvision.transforms](https://pytorch.org/vision/stable/transforms.html)提供了几个开箱即用的常用转换。\n",
        "\n",
        "\\\\\n",
        "FasionMINST数据集特征采用PLI图像格式，并且标签都是整数。在训练的过程中，我们需要将作为归一化（标准化）的tensors，将标签作为独热编码的tensors，我们使用```ToTensor```和```lambda```方法来做这些转换。"
      ],
      "metadata": {
        "id": "TPfhdBN3GV3j"
      }
    },
    {
      "cell_type": "code",
      "source": [
        "import torch\n",
        "from torchvision import datasets\n",
        "from torchvision.transforms import ToTensor, Lambda\n",
        "\n",
        "ds = datasets.FashionMNIST(\n",
        "    root=\"data\",\n",
        "    train=True,\n",
        "    download=True,\n",
        "    transform=ToTensor(),\n",
        "    target_transform=Lambda(lambda y: torch.zeros(10, dtype=torch.float).scatter_(0, torch.tensor(y), value=1))\n",
        ")"
      ],
      "metadata": {
        "id": "S4Jyb74-GUBe"
      },
      "execution_count": null,
      "outputs": []
    },
    {
      "cell_type": "markdown",
      "source": [
        "##ToTensor"
      ],
      "metadata": {
        "id": "OwIcdx83SfER"
      }
    },
    {
      "cell_type": "markdown",
      "source": [
        "ToTensor将一个PLI格式的图片或者Numpy的```ndarray```转换成一个```FloatTensor```，并且将图片的像素强度值缩放在[0.,1.]以内"
      ],
      "metadata": {
        "id": "z52wnegkShPV"
      }
    },
    {
      "cell_type": "markdown",
      "source": [
        "##Lambda转换"
      ],
      "metadata": {
        "id": "COtY01jAVRZR"
      }
    },
    {
      "cell_type": "markdown",
      "source": [
        "Lambda转换应用于任何用户自定义的lambda函数，在下面的代码中，我们定义了一个函数来将整数转换成为独热编码的tensors，它首先创建了一个大小为10（我们的数据集中标签的数量）的0 tensor，然后调用```scatter```函数，它可以根据标签y提供索引分配一个值```value=1```"
      ],
      "metadata": {
        "id": "PoRVKMUuZSUL"
      }
    },
    {
      "cell_type": "code",
      "source": [
        "target_transform = Lambda(lambda y: torch.zeros(\n",
        "    10, dtype=torch.float).scatter_(dim=0, index=torch.tensor(y), value=1))"
      ],
      "metadata": {
        "id": "l4qXQ4CEcslc"
      },
      "execution_count": null,
      "outputs": []
    },
    {
      "cell_type": "markdown",
      "source": [
        "\\\\\n",
        "\n",
        "---\n",
        "\n",
        "\\\\"
      ],
      "metadata": {
        "id": "sTorlwVMc2c6"
      }
    },
    {
      "cell_type": "markdown",
      "source": [
        "##进一步了解\n",
        "\\\\\n",
        "[torchvision.transforms API](https://https://pytorch.org/vision/stable/transforms.html)"
      ],
      "metadata": {
        "id": "S3FgfQJHc5OT"
      }
    },
    {
      "cell_type": "code",
      "execution_count": null,
      "metadata": {
        "id": "QIHpmAyEFAJN"
      },
      "outputs": [],
      "source": []
    }
  ]
}