{
  "nbformat": 4,
  "nbformat_minor": 0,
  "metadata": {
    "colab": {
      "provenance": [],
      "collapsed_sections": [],
      "authorship_tag": "ABX9TyOAA2Hju8iXsdkc8qUKOtlD",
      "include_colab_link": true
    },
    "kernelspec": {
      "name": "python3",
      "display_name": "Python 3"
    },
    "language_info": {
      "name": "python"
    },
    "accelerator": "GPU",
    "gpuClass": "standard"
  },
  "cells": [
    {
      "cell_type": "markdown",
      "metadata": {
        "id": "view-in-github",
        "colab_type": "text"
      },
      "source": [
        "<a href=\"https://colab.research.google.com/github/DuanMingbai/PyTorch_Tutorials_cn/blob/main/Introduction%20to%20PyTorch/5_%E5%BB%BA%E7%AB%8B%E7%A5%9E%E7%BB%8F%E7%BD%91%E7%BB%9C.ipynb\" target=\"_parent\"><img src=\"https://colab.research.google.com/assets/colab-badge.svg\" alt=\"Open In Colab\"/></a>"
      ]
    },
    {
      "cell_type": "markdown",
      "source": [
        "#建立神经网络"
      ],
      "metadata": {
        "id": "ribZES3edtSL"
      }
    },
    {
      "cell_type": "markdown",
      "source": [
        "神经网络由对数据执行操作的层/模块组成。[torch.nn](https://pytorch.org/docs/stable/nn.html)命名空间为你构建自己的神经网络提供了一整套构建模块，在PyTorch中每一个模块都是[nn.Model](https://pytorch.org/docs/stable/generated/torch.nn.Module.html)的子类，神经网络本身就是一个模块本身，由其他模块（层）组成。这种嵌套的结构允许更方便的去管理和建造更复杂的神经网络架构。\n",
        "\n",
        "\\\\\n",
        "在本节中，我们会构建一个神经网络来对FasionMINST中的图片进行分类。"
      ],
      "metadata": {
        "id": "OyVIUBoNfKbB"
      }
    },
    {
      "cell_type": "code",
      "execution_count": null,
      "metadata": {
        "id": "NGERaBX3dqYd"
      },
      "outputs": [],
      "source": [
        "import os\n",
        "import torch\n",
        "from torch import nn\n",
        "from torch.utils.data import DataLoader\n",
        "from torchvision import datasets, transforms"
      ]
    },
    {
      "cell_type": "markdown",
      "source": [
        "##获取训练设备"
      ],
      "metadata": {
        "id": "066qysYohmXy"
      }
    },
    {
      "cell_type": "markdown",
      "source": [
        "如果可能的话，我们希望我们的模型可以运行在类似GPU这种加速设备上，让我们检查一下torch.cuda是否可用，或者我们继续去使用CPU。"
      ],
      "metadata": {
        "id": "YdHVB1z1hutk"
      }
    },
    {
      "cell_type": "code",
      "source": [
        "device = \"cuda\" if torch.cuda.is_available() else \"CPU\"\n",
        "print(f\"Using {device} device\")"
      ],
      "metadata": {
        "colab": {
          "base_uri": "https://localhost:8080/"
        },
        "id": "i-IQGqrzhpC-",
        "outputId": "7f991b90-cbe8-4c4a-ec71-55c5e2892059"
      },
      "execution_count": null,
      "outputs": [
        {
          "output_type": "stream",
          "name": "stdout",
          "text": [
            "Using cuda device\n"
          ]
        }
      ]
    },
    {
      "cell_type": "markdown",
      "source": [
        "##定义类"
      ],
      "metadata": {
        "id": "bG2bwI0pjDDw"
      }
    },
    {
      "cell_type": "markdown",
      "source": [
        "我们通过nn.Module的子类定义我们自己的神经网络，用```__init__```函数初始化神经网络层数，每个 ```nn.Module```子类都在```forward```方法中实现对输入数据的操作。"
      ],
      "metadata": {
        "id": "0XPPtyC9jF38"
      }
    },
    {
      "cell_type": "code",
      "source": [
        "class NeuralNetwork(nn.Module):\n",
        "    def __init__(self):\n",
        "        super(NeuralNetwork, self).__init__()\n",
        "        self.flatten = nn.Flatten()\n",
        "        self.linear_relu_stack = nn.Sequential(\n",
        "            nn.Linear(28*28, 512),\n",
        "            nn.ReLU(),\n",
        "            nn.Linear(512, 512),\n",
        "            nn.ReLU(),\n",
        "            nn.Linear(512, 10),\n",
        "        )\n",
        "\n",
        "    def forward(self, x):\n",
        "        x = self.flatten(x)\n",
        "        logits = self.linear_relu_stack(x)\n",
        "        return logits"
      ],
      "metadata": {
        "id": "5WNv9y3ejFQT"
      },
      "execution_count": null,
      "outputs": []
    },
    {
      "cell_type": "markdown",
      "source": [
        "我们创建一个NeuralNetwork的实例，并且把它挪到GPU(```device```)上运行，然后打印。"
      ],
      "metadata": {
        "id": "LrUN_gfRlgfH"
      }
    },
    {
      "cell_type": "code",
      "source": [
        "model = NeuralNetwork().to(device)\n",
        "print(model)"
      ],
      "metadata": {
        "colab": {
          "base_uri": "https://localhost:8080/"
        },
        "id": "2e8Cp-pelzu5",
        "outputId": "8c03fcfa-ca98-4f56-d680-e67234d4edb2"
      },
      "execution_count": null,
      "outputs": [
        {
          "output_type": "stream",
          "name": "stdout",
          "text": [
            "NeuralNetwork(\n",
            "  (flatten): Flatten(start_dim=1, end_dim=-1)\n",
            "  (linear_relu_stack): Sequential(\n",
            "    (0): Linear(in_features=784, out_features=512, bias=True)\n",
            "    (1): ReLU()\n",
            "    (2): Linear(in_features=512, out_features=512, bias=True)\n",
            "    (3): ReLU()\n",
            "    (4): Linear(in_features=512, out_features=10, bias=True)\n",
            "  )\n",
            ")\n"
          ]
        }
      ]
    },
    {
      "cell_type": "markdown",
      "source": [
        "要使用的模型来处理我们将输入的数据。这样会执行模型的```forward```函数，以及后台的一些操作。不要直接调用```model.forward()```！！！！！！"
      ],
      "metadata": {
        "id": "aCqyMKzQrLsV"
      }
    },
    {
      "cell_type": "markdown",
      "source": [
        "在输入的时候调用模型会返回一个dim=0二维的tensor,第一维dim=0对应了输出的十个原始的预测值，第二维dim=1对应了每一个输出的单个值，我们将它传递到一个```nn.Module```模块的实例来获得预测的可能性。"
      ],
      "metadata": {
        "id": "4i24MwastWPY"
      }
    },
    {
      "cell_type": "code",
      "source": [
        "X = torch.rand(1, 28, 28, device=device)\n",
        "logits = model(X)\n",
        "pred_probab = nn.Softmax(dim=1)(logits)\n",
        "y_pred = pred_probab.argmax(1)\n",
        "print(f\"Predicted class: {y_pred}\")"
      ],
      "metadata": {
        "colab": {
          "base_uri": "https://localhost:8080/"
        },
        "id": "vZfvOg1YtU11",
        "outputId": "11a6bb4b-bca0-4471-96a1-706f3bdde566"
      },
      "execution_count": null,
      "outputs": [
        {
          "output_type": "stream",
          "name": "stdout",
          "text": [
            "Predicted class: tensor([1], device='cuda:0')\n"
          ]
        }
      ]
    },
    {
      "cell_type": "markdown",
      "source": [
        "\n",
        "\\\\\n",
        "\n",
        "\n",
        "---\n",
        "\n",
        "\\\\"
      ],
      "metadata": {
        "id": "5BZl_OuNrs5f"
      }
    },
    {
      "cell_type": "markdown",
      "source": [
        "##模型层"
      ],
      "metadata": {
        "id": "20ozuj14qFy6"
      }
    },
    {
      "cell_type": "markdown",
      "source": [
        "让我们来分解一下FashionMINST模型的层数，我们会定义一个包含3张大小为28×28的图片的样本，然后观察一下，我们将他们送进神经网络后会发生什么。"
      ],
      "metadata": {
        "id": "s2owIhAuqIqC"
      }
    },
    {
      "cell_type": "code",
      "source": [
        "input_image = torch.rand(3,28,28)\n",
        "print(input_image.size())"
      ],
      "metadata": {
        "colab": {
          "base_uri": "https://localhost:8080/"
        },
        "id": "ulrtri7pqtJ1",
        "outputId": "65fb0cf7-2292-47cb-e062-8a311baa4797"
      },
      "execution_count": null,
      "outputs": [
        {
          "output_type": "stream",
          "name": "stdout",
          "text": [
            "torch.Size([3, 28, 28])\n"
          ]
        }
      ]
    },
    {
      "cell_type": "markdown",
      "source": [
        "##nn.Flatten"
      ],
      "metadata": {
        "id": "f1dXXbR8rn0x"
      }
    },
    {
      "cell_type": "markdown",
      "source": [
        "我们初始化nn.Flatten层，去将一个大小为28×28的2D图片转换成大小为（28的平方）784像素组值的连续数组（在dim=0的时候保持小批量维度）"
      ],
      "metadata": {
        "id": "2Qlv09GNtuo3"
      }
    },
    {
      "cell_type": "code",
      "source": [
        "flatten = nn.Flatten()\n",
        "flat_image = flatten(input_image)\n",
        "print(flat_image.size())"
      ],
      "metadata": {
        "colab": {
          "base_uri": "https://localhost:8080/"
        },
        "id": "a-ALecfGttq3",
        "outputId": "64d0797d-c2a6-492c-853f-ec9df5a35ce2"
      },
      "execution_count": null,
      "outputs": [
        {
          "output_type": "stream",
          "name": "stdout",
          "text": [
            "torch.Size([3, 784])\n"
          ]
        }
      ]
    },
    {
      "cell_type": "markdown",
      "source": [
        "##nn.Linear"
      ],
      "metadata": {
        "id": "iZgF6y5T0SPj"
      }
    },
    {
      "cell_type": "markdown",
      "source": [
        "线性层也是一个模块，用它存储的权重（w）和偏差（b）来对输入的数据进行现行转换。"
      ],
      "metadata": {
        "id": "RGsAFUZS0VNZ"
      }
    },
    {
      "cell_type": "code",
      "source": [
        "layer1 = nn.Linear(in_features=28*28, out_features=20)\n",
        "hidden1 = layer1(flat_image)\n",
        "print(hidden1.size())"
      ],
      "metadata": {
        "colab": {
          "base_uri": "https://localhost:8080/"
        },
        "id": "ybFwpxoX2dUJ",
        "outputId": "c41a0044-46b0-4623-f01b-fc4135d436e0"
      },
      "execution_count": null,
      "outputs": [
        {
          "output_type": "stream",
          "name": "stdout",
          "text": [
            "torch.Size([3, 20])\n"
          ]
        }
      ]
    },
    {
      "cell_type": "markdown",
      "source": [
        "##nn.ReLU"
      ],
      "metadata": {
        "id": "LSUt7UdN3ph8"
      }
    },
    {
      "cell_type": "markdown",
      "source": [
        "非线性激活函数创建了一个从模型的输入到输出的复杂映射。他们在线性变换之后引入非线性，帮助神经网络学习各种各样的现象。\n",
        "\n",
        "\\\\\n",
        "在这个模型中我们在线性层中使用[nn.ReLU](https://pytorch.org/docs/stable/generated/torch.nn.ReLU.html)，你还可以在你的模型中引入其他其他非线性模型。"
      ],
      "metadata": {
        "id": "EpNx0yp33v0M"
      }
    },
    {
      "cell_type": "code",
      "source": [
        "print(f\"Before ReLU: {hidden1}\\n\\n\")\n",
        "hidden1 = nn.ReLU()(hidden1)\n",
        "print(f\"After ReLU: {hidden1}\")"
      ],
      "metadata": {
        "colab": {
          "base_uri": "https://localhost:8080/"
        },
        "id": "eZaKuA4z3Jcc",
        "outputId": "3be7bdaf-f32c-4800-ca37-11eaf68744ba"
      },
      "execution_count": null,
      "outputs": [
        {
          "output_type": "stream",
          "name": "stdout",
          "text": [
            "Before ReLU: tensor([[0.4221, 0.0799, 0.2920, 0.0000, 0.3960, 0.0000, 0.4093, 0.0000, 0.0000,\n",
            "         0.2008, 0.3254, 0.0000, 0.0000, 0.0027, 0.0193, 0.0000, 0.0000, 0.0000,\n",
            "         0.3248, 0.0228],\n",
            "        [0.2284, 0.1962, 0.2006, 0.2729, 0.4946, 0.0866, 0.0936, 0.0000, 0.0000,\n",
            "         0.1356, 0.0692, 0.0000, 0.0000, 0.4252, 0.0000, 0.1199, 0.0000, 0.0000,\n",
            "         0.0000, 0.0000],\n",
            "        [0.6752, 0.2179, 0.0781, 0.0000, 0.6522, 0.0000, 0.5320, 0.0000, 0.0647,\n",
            "         0.0000, 0.4191, 0.0359, 0.0000, 0.0000, 0.0000, 0.1831, 0.0000, 0.0000,\n",
            "         0.0000, 0.0000]], grad_fn=<ReluBackward0>)\n",
            "\n",
            "\n",
            "After ReLU: tensor([[0.4221, 0.0799, 0.2920, 0.0000, 0.3960, 0.0000, 0.4093, 0.0000, 0.0000,\n",
            "         0.2008, 0.3254, 0.0000, 0.0000, 0.0027, 0.0193, 0.0000, 0.0000, 0.0000,\n",
            "         0.3248, 0.0228],\n",
            "        [0.2284, 0.1962, 0.2006, 0.2729, 0.4946, 0.0866, 0.0936, 0.0000, 0.0000,\n",
            "         0.1356, 0.0692, 0.0000, 0.0000, 0.4252, 0.0000, 0.1199, 0.0000, 0.0000,\n",
            "         0.0000, 0.0000],\n",
            "        [0.6752, 0.2179, 0.0781, 0.0000, 0.6522, 0.0000, 0.5320, 0.0000, 0.0647,\n",
            "         0.0000, 0.4191, 0.0359, 0.0000, 0.0000, 0.0000, 0.1831, 0.0000, 0.0000,\n",
            "         0.0000, 0.0000]], grad_fn=<ReluBackward0>)\n"
          ]
        }
      ]
    },
    {
      "cell_type": "markdown",
      "source": [
        "##nn.Sequential"
      ],
      "metadata": {
        "id": "X7DeRTdPEuEg"
      }
    },
    {
      "cell_type": "markdown",
      "source": [
        "nn.Sequential是一个有序列的模块，数据按照定义的顺序通过所有模块，你可以使用序列容器搭建一个快速网络，例如```seq_modules```。"
      ],
      "metadata": {
        "id": "qp1n0gkFExAX"
      }
    },
    {
      "cell_type": "code",
      "source": [
        "seq_modules = nn.Sequential(\n",
        "    flatten,\n",
        "    layer1,\n",
        "    nn.ReLU(),\n",
        "    nn.Linear(20, 10)\n",
        ")\n",
        "input_image = torch.rand(3,28,28)\n",
        "logits = seq_modules(input_image)"
      ],
      "metadata": {
        "id": "XKffk5RUJQsA"
      },
      "execution_count": null,
      "outputs": []
    },
    {
      "cell_type": "markdown",
      "source": [
        "##nn.Softmax"
      ],
      "metadata": {
        "id": "-EVxRrNpJdnt"
      }
    },
    {
      "cell_type": "markdown",
      "source": [
        "神经网络最后一个线性层返回一个逻辑值，-原来的值在[-∞,+∞]-原来的值被送入nn.Softmax模块，逻辑值就被缩放到[0, 1]之间表示模型对每个类别预测的可能性。```dim```参数的意思是，在这个纬度里面的值的和必须是1。"
      ],
      "metadata": {
        "id": "rS1PEmaeJ4GG"
      }
    },
    {
      "cell_type": "code",
      "source": [
        "softmax = nn.Softmax(dim=1)\n",
        "pred_probab = softmax(logits)"
      ],
      "metadata": {
        "id": "WPadtKheVQnk"
      },
      "execution_count": null,
      "outputs": []
    },
    {
      "cell_type": "markdown",
      "source": [
        "##模型参数"
      ],
      "metadata": {
        "id": "XeRLTVrTVSV5"
      }
    },
    {
      "cell_type": "markdown",
      "source": [
        "许多层（layer）在神经网络中是参数化的，也就是说在训练的过程中会更新相关的权重。```nn.Module```的子类会自动跟踪你模型中的所有子类，使用你的模型的```parameters()```或者```named_parameters()```使所有的参数都可以被访问。\n",
        "\n",
        "\\\\\n",
        "在这个例子中，我们遍历每一个参数，并且预览它的值。"
      ],
      "metadata": {
        "id": "CLSPDcZMWE6L"
      }
    },
    {
      "cell_type": "code",
      "source": [
        "print(f\"Model structure: {model}\\n\\n\")\n",
        "\n",
        "for name, param in model.named_parameters():\n",
        "    print(f\"Layer: {name} | Size: {param.size()} | Values : {param[:2]} \\n\")"
      ],
      "metadata": {
        "colab": {
          "base_uri": "https://localhost:8080/"
        },
        "id": "X4TjZsJqJgKc",
        "outputId": "88edfde7-a01f-4e2e-8033-3dff30faab84"
      },
      "execution_count": null,
      "outputs": [
        {
          "output_type": "stream",
          "name": "stdout",
          "text": [
            "Model structure: NeuralNetwork(\n",
            "  (flatten): Flatten(start_dim=1, end_dim=-1)\n",
            "  (linear_relu_stack): Sequential(\n",
            "    (0): Linear(in_features=784, out_features=512, bias=True)\n",
            "    (1): ReLU()\n",
            "    (2): Linear(in_features=512, out_features=512, bias=True)\n",
            "    (3): ReLU()\n",
            "    (4): Linear(in_features=512, out_features=10, bias=True)\n",
            "  )\n",
            ")\n",
            "\n",
            "\n",
            "Layer: linear_relu_stack.0.weight | Size: torch.Size([512, 784]) | Values : tensor([[ 0.0097, -0.0246, -0.0340,  ..., -0.0133, -0.0165,  0.0280],\n",
            "        [ 0.0236,  0.0041, -0.0156,  ..., -0.0140, -0.0224,  0.0296]],\n",
            "       device='cuda:0', grad_fn=<SliceBackward0>) \n",
            "\n",
            "Layer: linear_relu_stack.0.bias | Size: torch.Size([512]) | Values : tensor([-0.0128, -0.0032], device='cuda:0', grad_fn=<SliceBackward0>) \n",
            "\n",
            "Layer: linear_relu_stack.2.weight | Size: torch.Size([512, 512]) | Values : tensor([[-0.0192, -0.0031, -0.0141,  ..., -0.0266, -0.0119, -0.0172],\n",
            "        [ 0.0401,  0.0261, -0.0388,  ..., -0.0308,  0.0155,  0.0024]],\n",
            "       device='cuda:0', grad_fn=<SliceBackward0>) \n",
            "\n",
            "Layer: linear_relu_stack.2.bias | Size: torch.Size([512]) | Values : tensor([-0.0356, -0.0399], device='cuda:0', grad_fn=<SliceBackward0>) \n",
            "\n",
            "Layer: linear_relu_stack.4.weight | Size: torch.Size([10, 512]) | Values : tensor([[ 2.5189e-02, -1.6219e-02, -3.8290e-05,  ...,  2.9095e-02,\n",
            "          2.6443e-02,  2.7256e-02],\n",
            "        [ 2.0157e-02, -1.1825e-02,  2.4071e-02,  ...,  3.9122e-03,\n",
            "          1.7989e-02, -1.6692e-02]], device='cuda:0', grad_fn=<SliceBackward0>) \n",
            "\n",
            "Layer: linear_relu_stack.4.bias | Size: torch.Size([10]) | Values : tensor([-0.0433,  0.0056], device='cuda:0', grad_fn=<SliceBackward0>) \n",
            "\n"
          ]
        }
      ]
    },
    {
      "cell_type": "markdown",
      "source": [
        "##阅读更多"
      ],
      "metadata": {
        "id": "w2xmOp5UbaFe"
      }
    },
    {
      "cell_type": "markdown",
      "source": [
        "[torch.nn API](https://pytorch.org/docs/stable/nn.html)"
      ],
      "metadata": {
        "id": "SiDnJzd_bjG8"
      }
    }
  ]
}