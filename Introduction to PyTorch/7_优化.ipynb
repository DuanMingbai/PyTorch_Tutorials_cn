{
  "nbformat": 4,
  "nbformat_minor": 0,
  "metadata": {
    "colab": {
      "provenance": [],
      "collapsed_sections": [
        "Ob5EK5jX4uH_",
        "VUIMCb7A5OEI",
        "jMvUGyEL_d52"
      ],
      "authorship_tag": "ABX9TyMD34nnNFLsea/b0avjYk27",
      "include_colab_link": true
    },
    "kernelspec": {
      "name": "python3",
      "display_name": "Python 3"
    },
    "language_info": {
      "name": "python"
    },
    "widgets": {
      "application/vnd.jupyter.widget-state+json": {
        "8ac5087393ee46128b13123a206628b1": {
          "model_module": "@jupyter-widgets/controls",
          "model_name": "HBoxModel",
          "model_module_version": "1.5.0",
          "state": {
            "_dom_classes": [],
            "_model_module": "@jupyter-widgets/controls",
            "_model_module_version": "1.5.0",
            "_model_name": "HBoxModel",
            "_view_count": null,
            "_view_module": "@jupyter-widgets/controls",
            "_view_module_version": "1.5.0",
            "_view_name": "HBoxView",
            "box_style": "",
            "children": [
              "IPY_MODEL_8b7c4c0b5b8e466082b0443510dbc4b0",
              "IPY_MODEL_37349e8974754f8ca265e29465446333",
              "IPY_MODEL_96e00898a5da4362a3ce5e735519da03"
            ],
            "layout": "IPY_MODEL_3818186d6cf9486ca1d549de85d400c5"
          }
        },
        "8b7c4c0b5b8e466082b0443510dbc4b0": {
          "model_module": "@jupyter-widgets/controls",
          "model_name": "HTMLModel",
          "model_module_version": "1.5.0",
          "state": {
            "_dom_classes": [],
            "_model_module": "@jupyter-widgets/controls",
            "_model_module_version": "1.5.0",
            "_model_name": "HTMLModel",
            "_view_count": null,
            "_view_module": "@jupyter-widgets/controls",
            "_view_module_version": "1.5.0",
            "_view_name": "HTMLView",
            "description": "",
            "description_tooltip": null,
            "layout": "IPY_MODEL_48f649a82f8e4192aaa05599348e009b",
            "placeholder": "​",
            "style": "IPY_MODEL_3d25db8eba124fc290a2291ef7db9b5e",
            "value": "100%"
          }
        },
        "37349e8974754f8ca265e29465446333": {
          "model_module": "@jupyter-widgets/controls",
          "model_name": "FloatProgressModel",
          "model_module_version": "1.5.0",
          "state": {
            "_dom_classes": [],
            "_model_module": "@jupyter-widgets/controls",
            "_model_module_version": "1.5.0",
            "_model_name": "FloatProgressModel",
            "_view_count": null,
            "_view_module": "@jupyter-widgets/controls",
            "_view_module_version": "1.5.0",
            "_view_name": "ProgressView",
            "bar_style": "success",
            "description": "",
            "description_tooltip": null,
            "layout": "IPY_MODEL_b8483c4e3a214f938a5c9cd4d09279a2",
            "max": 26421880,
            "min": 0,
            "orientation": "horizontal",
            "style": "IPY_MODEL_b0a984d106c041bab789346633cb1c4c",
            "value": 26421880
          }
        },
        "96e00898a5da4362a3ce5e735519da03": {
          "model_module": "@jupyter-widgets/controls",
          "model_name": "HTMLModel",
          "model_module_version": "1.5.0",
          "state": {
            "_dom_classes": [],
            "_model_module": "@jupyter-widgets/controls",
            "_model_module_version": "1.5.0",
            "_model_name": "HTMLModel",
            "_view_count": null,
            "_view_module": "@jupyter-widgets/controls",
            "_view_module_version": "1.5.0",
            "_view_name": "HTMLView",
            "description": "",
            "description_tooltip": null,
            "layout": "IPY_MODEL_8de4037e4851469481ddc8c68e3ae52c",
            "placeholder": "​",
            "style": "IPY_MODEL_808891a0a1ca4bda8f8bd177bb5cea96",
            "value": " 26421880/26421880 [00:01&lt;00:00, 28132767.00it/s]"
          }
        },
        "3818186d6cf9486ca1d549de85d400c5": {
          "model_module": "@jupyter-widgets/base",
          "model_name": "LayoutModel",
          "model_module_version": "1.2.0",
          "state": {
            "_model_module": "@jupyter-widgets/base",
            "_model_module_version": "1.2.0",
            "_model_name": "LayoutModel",
            "_view_count": null,
            "_view_module": "@jupyter-widgets/base",
            "_view_module_version": "1.2.0",
            "_view_name": "LayoutView",
            "align_content": null,
            "align_items": null,
            "align_self": null,
            "border": null,
            "bottom": null,
            "display": null,
            "flex": null,
            "flex_flow": null,
            "grid_area": null,
            "grid_auto_columns": null,
            "grid_auto_flow": null,
            "grid_auto_rows": null,
            "grid_column": null,
            "grid_gap": null,
            "grid_row": null,
            "grid_template_areas": null,
            "grid_template_columns": null,
            "grid_template_rows": null,
            "height": null,
            "justify_content": null,
            "justify_items": null,
            "left": null,
            "margin": null,
            "max_height": null,
            "max_width": null,
            "min_height": null,
            "min_width": null,
            "object_fit": null,
            "object_position": null,
            "order": null,
            "overflow": null,
            "overflow_x": null,
            "overflow_y": null,
            "padding": null,
            "right": null,
            "top": null,
            "visibility": null,
            "width": null
          }
        },
        "48f649a82f8e4192aaa05599348e009b": {
          "model_module": "@jupyter-widgets/base",
          "model_name": "LayoutModel",
          "model_module_version": "1.2.0",
          "state": {
            "_model_module": "@jupyter-widgets/base",
            "_model_module_version": "1.2.0",
            "_model_name": "LayoutModel",
            "_view_count": null,
            "_view_module": "@jupyter-widgets/base",
            "_view_module_version": "1.2.0",
            "_view_name": "LayoutView",
            "align_content": null,
            "align_items": null,
            "align_self": null,
            "border": null,
            "bottom": null,
            "display": null,
            "flex": null,
            "flex_flow": null,
            "grid_area": null,
            "grid_auto_columns": null,
            "grid_auto_flow": null,
            "grid_auto_rows": null,
            "grid_column": null,
            "grid_gap": null,
            "grid_row": null,
            "grid_template_areas": null,
            "grid_template_columns": null,
            "grid_template_rows": null,
            "height": null,
            "justify_content": null,
            "justify_items": null,
            "left": null,
            "margin": null,
            "max_height": null,
            "max_width": null,
            "min_height": null,
            "min_width": null,
            "object_fit": null,
            "object_position": null,
            "order": null,
            "overflow": null,
            "overflow_x": null,
            "overflow_y": null,
            "padding": null,
            "right": null,
            "top": null,
            "visibility": null,
            "width": null
          }
        },
        "3d25db8eba124fc290a2291ef7db9b5e": {
          "model_module": "@jupyter-widgets/controls",
          "model_name": "DescriptionStyleModel",
          "model_module_version": "1.5.0",
          "state": {
            "_model_module": "@jupyter-widgets/controls",
            "_model_module_version": "1.5.0",
            "_model_name": "DescriptionStyleModel",
            "_view_count": null,
            "_view_module": "@jupyter-widgets/base",
            "_view_module_version": "1.2.0",
            "_view_name": "StyleView",
            "description_width": ""
          }
        },
        "b8483c4e3a214f938a5c9cd4d09279a2": {
          "model_module": "@jupyter-widgets/base",
          "model_name": "LayoutModel",
          "model_module_version": "1.2.0",
          "state": {
            "_model_module": "@jupyter-widgets/base",
            "_model_module_version": "1.2.0",
            "_model_name": "LayoutModel",
            "_view_count": null,
            "_view_module": "@jupyter-widgets/base",
            "_view_module_version": "1.2.0",
            "_view_name": "LayoutView",
            "align_content": null,
            "align_items": null,
            "align_self": null,
            "border": null,
            "bottom": null,
            "display": null,
            "flex": null,
            "flex_flow": null,
            "grid_area": null,
            "grid_auto_columns": null,
            "grid_auto_flow": null,
            "grid_auto_rows": null,
            "grid_column": null,
            "grid_gap": null,
            "grid_row": null,
            "grid_template_areas": null,
            "grid_template_columns": null,
            "grid_template_rows": null,
            "height": null,
            "justify_content": null,
            "justify_items": null,
            "left": null,
            "margin": null,
            "max_height": null,
            "max_width": null,
            "min_height": null,
            "min_width": null,
            "object_fit": null,
            "object_position": null,
            "order": null,
            "overflow": null,
            "overflow_x": null,
            "overflow_y": null,
            "padding": null,
            "right": null,
            "top": null,
            "visibility": null,
            "width": null
          }
        },
        "b0a984d106c041bab789346633cb1c4c": {
          "model_module": "@jupyter-widgets/controls",
          "model_name": "ProgressStyleModel",
          "model_module_version": "1.5.0",
          "state": {
            "_model_module": "@jupyter-widgets/controls",
            "_model_module_version": "1.5.0",
            "_model_name": "ProgressStyleModel",
            "_view_count": null,
            "_view_module": "@jupyter-widgets/base",
            "_view_module_version": "1.2.0",
            "_view_name": "StyleView",
            "bar_color": null,
            "description_width": ""
          }
        },
        "8de4037e4851469481ddc8c68e3ae52c": {
          "model_module": "@jupyter-widgets/base",
          "model_name": "LayoutModel",
          "model_module_version": "1.2.0",
          "state": {
            "_model_module": "@jupyter-widgets/base",
            "_model_module_version": "1.2.0",
            "_model_name": "LayoutModel",
            "_view_count": null,
            "_view_module": "@jupyter-widgets/base",
            "_view_module_version": "1.2.0",
            "_view_name": "LayoutView",
            "align_content": null,
            "align_items": null,
            "align_self": null,
            "border": null,
            "bottom": null,
            "display": null,
            "flex": null,
            "flex_flow": null,
            "grid_area": null,
            "grid_auto_columns": null,
            "grid_auto_flow": null,
            "grid_auto_rows": null,
            "grid_column": null,
            "grid_gap": null,
            "grid_row": null,
            "grid_template_areas": null,
            "grid_template_columns": null,
            "grid_template_rows": null,
            "height": null,
            "justify_content": null,
            "justify_items": null,
            "left": null,
            "margin": null,
            "max_height": null,
            "max_width": null,
            "min_height": null,
            "min_width": null,
            "object_fit": null,
            "object_position": null,
            "order": null,
            "overflow": null,
            "overflow_x": null,
            "overflow_y": null,
            "padding": null,
            "right": null,
            "top": null,
            "visibility": null,
            "width": null
          }
        },
        "808891a0a1ca4bda8f8bd177bb5cea96": {
          "model_module": "@jupyter-widgets/controls",
          "model_name": "DescriptionStyleModel",
          "model_module_version": "1.5.0",
          "state": {
            "_model_module": "@jupyter-widgets/controls",
            "_model_module_version": "1.5.0",
            "_model_name": "DescriptionStyleModel",
            "_view_count": null,
            "_view_module": "@jupyter-widgets/base",
            "_view_module_version": "1.2.0",
            "_view_name": "StyleView",
            "description_width": ""
          }
        },
        "fabcc88b62334f1e8e978d1231e5b769": {
          "model_module": "@jupyter-widgets/controls",
          "model_name": "HBoxModel",
          "model_module_version": "1.5.0",
          "state": {
            "_dom_classes": [],
            "_model_module": "@jupyter-widgets/controls",
            "_model_module_version": "1.5.0",
            "_model_name": "HBoxModel",
            "_view_count": null,
            "_view_module": "@jupyter-widgets/controls",
            "_view_module_version": "1.5.0",
            "_view_name": "HBoxView",
            "box_style": "",
            "children": [
              "IPY_MODEL_c8793466a86d45399afe865ce218ab08",
              "IPY_MODEL_cbebf2aca3af40e18df0f9529249687d",
              "IPY_MODEL_be7d83a3a4514accb9f9beae54f92683"
            ],
            "layout": "IPY_MODEL_c2d1910aa42946ce856860a5a404d652"
          }
        },
        "c8793466a86d45399afe865ce218ab08": {
          "model_module": "@jupyter-widgets/controls",
          "model_name": "HTMLModel",
          "model_module_version": "1.5.0",
          "state": {
            "_dom_classes": [],
            "_model_module": "@jupyter-widgets/controls",
            "_model_module_version": "1.5.0",
            "_model_name": "HTMLModel",
            "_view_count": null,
            "_view_module": "@jupyter-widgets/controls",
            "_view_module_version": "1.5.0",
            "_view_name": "HTMLView",
            "description": "",
            "description_tooltip": null,
            "layout": "IPY_MODEL_215ef8279f854177a574186643cd4550",
            "placeholder": "​",
            "style": "IPY_MODEL_9be558a0c42f4f6e917998490f306a19",
            "value": "100%"
          }
        },
        "cbebf2aca3af40e18df0f9529249687d": {
          "model_module": "@jupyter-widgets/controls",
          "model_name": "FloatProgressModel",
          "model_module_version": "1.5.0",
          "state": {
            "_dom_classes": [],
            "_model_module": "@jupyter-widgets/controls",
            "_model_module_version": "1.5.0",
            "_model_name": "FloatProgressModel",
            "_view_count": null,
            "_view_module": "@jupyter-widgets/controls",
            "_view_module_version": "1.5.0",
            "_view_name": "ProgressView",
            "bar_style": "success",
            "description": "",
            "description_tooltip": null,
            "layout": "IPY_MODEL_06bbf812bc5d4b809191eda58548df69",
            "max": 29515,
            "min": 0,
            "orientation": "horizontal",
            "style": "IPY_MODEL_a2657fbed84b450dadafb47e3900814b",
            "value": 29515
          }
        },
        "be7d83a3a4514accb9f9beae54f92683": {
          "model_module": "@jupyter-widgets/controls",
          "model_name": "HTMLModel",
          "model_module_version": "1.5.0",
          "state": {
            "_dom_classes": [],
            "_model_module": "@jupyter-widgets/controls",
            "_model_module_version": "1.5.0",
            "_model_name": "HTMLModel",
            "_view_count": null,
            "_view_module": "@jupyter-widgets/controls",
            "_view_module_version": "1.5.0",
            "_view_name": "HTMLView",
            "description": "",
            "description_tooltip": null,
            "layout": "IPY_MODEL_6b3059f849714230893e94b7bb382e70",
            "placeholder": "​",
            "style": "IPY_MODEL_6a553e104ea64680a29ff9b65bb4a3d1",
            "value": " 29515/29515 [00:00&lt;00:00, 77082.45it/s]"
          }
        },
        "c2d1910aa42946ce856860a5a404d652": {
          "model_module": "@jupyter-widgets/base",
          "model_name": "LayoutModel",
          "model_module_version": "1.2.0",
          "state": {
            "_model_module": "@jupyter-widgets/base",
            "_model_module_version": "1.2.0",
            "_model_name": "LayoutModel",
            "_view_count": null,
            "_view_module": "@jupyter-widgets/base",
            "_view_module_version": "1.2.0",
            "_view_name": "LayoutView",
            "align_content": null,
            "align_items": null,
            "align_self": null,
            "border": null,
            "bottom": null,
            "display": null,
            "flex": null,
            "flex_flow": null,
            "grid_area": null,
            "grid_auto_columns": null,
            "grid_auto_flow": null,
            "grid_auto_rows": null,
            "grid_column": null,
            "grid_gap": null,
            "grid_row": null,
            "grid_template_areas": null,
            "grid_template_columns": null,
            "grid_template_rows": null,
            "height": null,
            "justify_content": null,
            "justify_items": null,
            "left": null,
            "margin": null,
            "max_height": null,
            "max_width": null,
            "min_height": null,
            "min_width": null,
            "object_fit": null,
            "object_position": null,
            "order": null,
            "overflow": null,
            "overflow_x": null,
            "overflow_y": null,
            "padding": null,
            "right": null,
            "top": null,
            "visibility": null,
            "width": null
          }
        },
        "215ef8279f854177a574186643cd4550": {
          "model_module": "@jupyter-widgets/base",
          "model_name": "LayoutModel",
          "model_module_version": "1.2.0",
          "state": {
            "_model_module": "@jupyter-widgets/base",
            "_model_module_version": "1.2.0",
            "_model_name": "LayoutModel",
            "_view_count": null,
            "_view_module": "@jupyter-widgets/base",
            "_view_module_version": "1.2.0",
            "_view_name": "LayoutView",
            "align_content": null,
            "align_items": null,
            "align_self": null,
            "border": null,
            "bottom": null,
            "display": null,
            "flex": null,
            "flex_flow": null,
            "grid_area": null,
            "grid_auto_columns": null,
            "grid_auto_flow": null,
            "grid_auto_rows": null,
            "grid_column": null,
            "grid_gap": null,
            "grid_row": null,
            "grid_template_areas": null,
            "grid_template_columns": null,
            "grid_template_rows": null,
            "height": null,
            "justify_content": null,
            "justify_items": null,
            "left": null,
            "margin": null,
            "max_height": null,
            "max_width": null,
            "min_height": null,
            "min_width": null,
            "object_fit": null,
            "object_position": null,
            "order": null,
            "overflow": null,
            "overflow_x": null,
            "overflow_y": null,
            "padding": null,
            "right": null,
            "top": null,
            "visibility": null,
            "width": null
          }
        },
        "9be558a0c42f4f6e917998490f306a19": {
          "model_module": "@jupyter-widgets/controls",
          "model_name": "DescriptionStyleModel",
          "model_module_version": "1.5.0",
          "state": {
            "_model_module": "@jupyter-widgets/controls",
            "_model_module_version": "1.5.0",
            "_model_name": "DescriptionStyleModel",
            "_view_count": null,
            "_view_module": "@jupyter-widgets/base",
            "_view_module_version": "1.2.0",
            "_view_name": "StyleView",
            "description_width": ""
          }
        },
        "06bbf812bc5d4b809191eda58548df69": {
          "model_module": "@jupyter-widgets/base",
          "model_name": "LayoutModel",
          "model_module_version": "1.2.0",
          "state": {
            "_model_module": "@jupyter-widgets/base",
            "_model_module_version": "1.2.0",
            "_model_name": "LayoutModel",
            "_view_count": null,
            "_view_module": "@jupyter-widgets/base",
            "_view_module_version": "1.2.0",
            "_view_name": "LayoutView",
            "align_content": null,
            "align_items": null,
            "align_self": null,
            "border": null,
            "bottom": null,
            "display": null,
            "flex": null,
            "flex_flow": null,
            "grid_area": null,
            "grid_auto_columns": null,
            "grid_auto_flow": null,
            "grid_auto_rows": null,
            "grid_column": null,
            "grid_gap": null,
            "grid_row": null,
            "grid_template_areas": null,
            "grid_template_columns": null,
            "grid_template_rows": null,
            "height": null,
            "justify_content": null,
            "justify_items": null,
            "left": null,
            "margin": null,
            "max_height": null,
            "max_width": null,
            "min_height": null,
            "min_width": null,
            "object_fit": null,
            "object_position": null,
            "order": null,
            "overflow": null,
            "overflow_x": null,
            "overflow_y": null,
            "padding": null,
            "right": null,
            "top": null,
            "visibility": null,
            "width": null
          }
        },
        "a2657fbed84b450dadafb47e3900814b": {
          "model_module": "@jupyter-widgets/controls",
          "model_name": "ProgressStyleModel",
          "model_module_version": "1.5.0",
          "state": {
            "_model_module": "@jupyter-widgets/controls",
            "_model_module_version": "1.5.0",
            "_model_name": "ProgressStyleModel",
            "_view_count": null,
            "_view_module": "@jupyter-widgets/base",
            "_view_module_version": "1.2.0",
            "_view_name": "StyleView",
            "bar_color": null,
            "description_width": ""
          }
        },
        "6b3059f849714230893e94b7bb382e70": {
          "model_module": "@jupyter-widgets/base",
          "model_name": "LayoutModel",
          "model_module_version": "1.2.0",
          "state": {
            "_model_module": "@jupyter-widgets/base",
            "_model_module_version": "1.2.0",
            "_model_name": "LayoutModel",
            "_view_count": null,
            "_view_module": "@jupyter-widgets/base",
            "_view_module_version": "1.2.0",
            "_view_name": "LayoutView",
            "align_content": null,
            "align_items": null,
            "align_self": null,
            "border": null,
            "bottom": null,
            "display": null,
            "flex": null,
            "flex_flow": null,
            "grid_area": null,
            "grid_auto_columns": null,
            "grid_auto_flow": null,
            "grid_auto_rows": null,
            "grid_column": null,
            "grid_gap": null,
            "grid_row": null,
            "grid_template_areas": null,
            "grid_template_columns": null,
            "grid_template_rows": null,
            "height": null,
            "justify_content": null,
            "justify_items": null,
            "left": null,
            "margin": null,
            "max_height": null,
            "max_width": null,
            "min_height": null,
            "min_width": null,
            "object_fit": null,
            "object_position": null,
            "order": null,
            "overflow": null,
            "overflow_x": null,
            "overflow_y": null,
            "padding": null,
            "right": null,
            "top": null,
            "visibility": null,
            "width": null
          }
        },
        "6a553e104ea64680a29ff9b65bb4a3d1": {
          "model_module": "@jupyter-widgets/controls",
          "model_name": "DescriptionStyleModel",
          "model_module_version": "1.5.0",
          "state": {
            "_model_module": "@jupyter-widgets/controls",
            "_model_module_version": "1.5.0",
            "_model_name": "DescriptionStyleModel",
            "_view_count": null,
            "_view_module": "@jupyter-widgets/base",
            "_view_module_version": "1.2.0",
            "_view_name": "StyleView",
            "description_width": ""
          }
        },
        "7d99dd16bad24688b8d7200712c0cd71": {
          "model_module": "@jupyter-widgets/controls",
          "model_name": "HBoxModel",
          "model_module_version": "1.5.0",
          "state": {
            "_dom_classes": [],
            "_model_module": "@jupyter-widgets/controls",
            "_model_module_version": "1.5.0",
            "_model_name": "HBoxModel",
            "_view_count": null,
            "_view_module": "@jupyter-widgets/controls",
            "_view_module_version": "1.5.0",
            "_view_name": "HBoxView",
            "box_style": "",
            "children": [
              "IPY_MODEL_0691b010391547bf9d99b2a362b4250f",
              "IPY_MODEL_209e304bfc2b4c72ab96f9ecea218969",
              "IPY_MODEL_a98a140a80ff4c0987e659e47554a510"
            ],
            "layout": "IPY_MODEL_a60868d7fcbf4f5bb5d14716421bdbf9"
          }
        },
        "0691b010391547bf9d99b2a362b4250f": {
          "model_module": "@jupyter-widgets/controls",
          "model_name": "HTMLModel",
          "model_module_version": "1.5.0",
          "state": {
            "_dom_classes": [],
            "_model_module": "@jupyter-widgets/controls",
            "_model_module_version": "1.5.0",
            "_model_name": "HTMLModel",
            "_view_count": null,
            "_view_module": "@jupyter-widgets/controls",
            "_view_module_version": "1.5.0",
            "_view_name": "HTMLView",
            "description": "",
            "description_tooltip": null,
            "layout": "IPY_MODEL_fdae6790652c4643b9af15fdca587879",
            "placeholder": "​",
            "style": "IPY_MODEL_c8dd82ce3c5940309885d4f2ad65d53d",
            "value": "100%"
          }
        },
        "209e304bfc2b4c72ab96f9ecea218969": {
          "model_module": "@jupyter-widgets/controls",
          "model_name": "FloatProgressModel",
          "model_module_version": "1.5.0",
          "state": {
            "_dom_classes": [],
            "_model_module": "@jupyter-widgets/controls",
            "_model_module_version": "1.5.0",
            "_model_name": "FloatProgressModel",
            "_view_count": null,
            "_view_module": "@jupyter-widgets/controls",
            "_view_module_version": "1.5.0",
            "_view_name": "ProgressView",
            "bar_style": "success",
            "description": "",
            "description_tooltip": null,
            "layout": "IPY_MODEL_122311c5a9704e03aa04ba98e23a4cd3",
            "max": 4422102,
            "min": 0,
            "orientation": "horizontal",
            "style": "IPY_MODEL_657c8f267fb14d999f380c3c8ab0e662",
            "value": 4422102
          }
        },
        "a98a140a80ff4c0987e659e47554a510": {
          "model_module": "@jupyter-widgets/controls",
          "model_name": "HTMLModel",
          "model_module_version": "1.5.0",
          "state": {
            "_dom_classes": [],
            "_model_module": "@jupyter-widgets/controls",
            "_model_module_version": "1.5.0",
            "_model_name": "HTMLModel",
            "_view_count": null,
            "_view_module": "@jupyter-widgets/controls",
            "_view_module_version": "1.5.0",
            "_view_name": "HTMLView",
            "description": "",
            "description_tooltip": null,
            "layout": "IPY_MODEL_7536aaf77bfa4970880827496ffe30fe",
            "placeholder": "​",
            "style": "IPY_MODEL_242e2ee477c6436895a83a66e34aaf8c",
            "value": " 4422102/4422102 [00:00&lt;00:00, 5320077.77it/s]"
          }
        },
        "a60868d7fcbf4f5bb5d14716421bdbf9": {
          "model_module": "@jupyter-widgets/base",
          "model_name": "LayoutModel",
          "model_module_version": "1.2.0",
          "state": {
            "_model_module": "@jupyter-widgets/base",
            "_model_module_version": "1.2.0",
            "_model_name": "LayoutModel",
            "_view_count": null,
            "_view_module": "@jupyter-widgets/base",
            "_view_module_version": "1.2.0",
            "_view_name": "LayoutView",
            "align_content": null,
            "align_items": null,
            "align_self": null,
            "border": null,
            "bottom": null,
            "display": null,
            "flex": null,
            "flex_flow": null,
            "grid_area": null,
            "grid_auto_columns": null,
            "grid_auto_flow": null,
            "grid_auto_rows": null,
            "grid_column": null,
            "grid_gap": null,
            "grid_row": null,
            "grid_template_areas": null,
            "grid_template_columns": null,
            "grid_template_rows": null,
            "height": null,
            "justify_content": null,
            "justify_items": null,
            "left": null,
            "margin": null,
            "max_height": null,
            "max_width": null,
            "min_height": null,
            "min_width": null,
            "object_fit": null,
            "object_position": null,
            "order": null,
            "overflow": null,
            "overflow_x": null,
            "overflow_y": null,
            "padding": null,
            "right": null,
            "top": null,
            "visibility": null,
            "width": null
          }
        },
        "fdae6790652c4643b9af15fdca587879": {
          "model_module": "@jupyter-widgets/base",
          "model_name": "LayoutModel",
          "model_module_version": "1.2.0",
          "state": {
            "_model_module": "@jupyter-widgets/base",
            "_model_module_version": "1.2.0",
            "_model_name": "LayoutModel",
            "_view_count": null,
            "_view_module": "@jupyter-widgets/base",
            "_view_module_version": "1.2.0",
            "_view_name": "LayoutView",
            "align_content": null,
            "align_items": null,
            "align_self": null,
            "border": null,
            "bottom": null,
            "display": null,
            "flex": null,
            "flex_flow": null,
            "grid_area": null,
            "grid_auto_columns": null,
            "grid_auto_flow": null,
            "grid_auto_rows": null,
            "grid_column": null,
            "grid_gap": null,
            "grid_row": null,
            "grid_template_areas": null,
            "grid_template_columns": null,
            "grid_template_rows": null,
            "height": null,
            "justify_content": null,
            "justify_items": null,
            "left": null,
            "margin": null,
            "max_height": null,
            "max_width": null,
            "min_height": null,
            "min_width": null,
            "object_fit": null,
            "object_position": null,
            "order": null,
            "overflow": null,
            "overflow_x": null,
            "overflow_y": null,
            "padding": null,
            "right": null,
            "top": null,
            "visibility": null,
            "width": null
          }
        },
        "c8dd82ce3c5940309885d4f2ad65d53d": {
          "model_module": "@jupyter-widgets/controls",
          "model_name": "DescriptionStyleModel",
          "model_module_version": "1.5.0",
          "state": {
            "_model_module": "@jupyter-widgets/controls",
            "_model_module_version": "1.5.0",
            "_model_name": "DescriptionStyleModel",
            "_view_count": null,
            "_view_module": "@jupyter-widgets/base",
            "_view_module_version": "1.2.0",
            "_view_name": "StyleView",
            "description_width": ""
          }
        },
        "122311c5a9704e03aa04ba98e23a4cd3": {
          "model_module": "@jupyter-widgets/base",
          "model_name": "LayoutModel",
          "model_module_version": "1.2.0",
          "state": {
            "_model_module": "@jupyter-widgets/base",
            "_model_module_version": "1.2.0",
            "_model_name": "LayoutModel",
            "_view_count": null,
            "_view_module": "@jupyter-widgets/base",
            "_view_module_version": "1.2.0",
            "_view_name": "LayoutView",
            "align_content": null,
            "align_items": null,
            "align_self": null,
            "border": null,
            "bottom": null,
            "display": null,
            "flex": null,
            "flex_flow": null,
            "grid_area": null,
            "grid_auto_columns": null,
            "grid_auto_flow": null,
            "grid_auto_rows": null,
            "grid_column": null,
            "grid_gap": null,
            "grid_row": null,
            "grid_template_areas": null,
            "grid_template_columns": null,
            "grid_template_rows": null,
            "height": null,
            "justify_content": null,
            "justify_items": null,
            "left": null,
            "margin": null,
            "max_height": null,
            "max_width": null,
            "min_height": null,
            "min_width": null,
            "object_fit": null,
            "object_position": null,
            "order": null,
            "overflow": null,
            "overflow_x": null,
            "overflow_y": null,
            "padding": null,
            "right": null,
            "top": null,
            "visibility": null,
            "width": null
          }
        },
        "657c8f267fb14d999f380c3c8ab0e662": {
          "model_module": "@jupyter-widgets/controls",
          "model_name": "ProgressStyleModel",
          "model_module_version": "1.5.0",
          "state": {
            "_model_module": "@jupyter-widgets/controls",
            "_model_module_version": "1.5.0",
            "_model_name": "ProgressStyleModel",
            "_view_count": null,
            "_view_module": "@jupyter-widgets/base",
            "_view_module_version": "1.2.0",
            "_view_name": "StyleView",
            "bar_color": null,
            "description_width": ""
          }
        },
        "7536aaf77bfa4970880827496ffe30fe": {
          "model_module": "@jupyter-widgets/base",
          "model_name": "LayoutModel",
          "model_module_version": "1.2.0",
          "state": {
            "_model_module": "@jupyter-widgets/base",
            "_model_module_version": "1.2.0",
            "_model_name": "LayoutModel",
            "_view_count": null,
            "_view_module": "@jupyter-widgets/base",
            "_view_module_version": "1.2.0",
            "_view_name": "LayoutView",
            "align_content": null,
            "align_items": null,
            "align_self": null,
            "border": null,
            "bottom": null,
            "display": null,
            "flex": null,
            "flex_flow": null,
            "grid_area": null,
            "grid_auto_columns": null,
            "grid_auto_flow": null,
            "grid_auto_rows": null,
            "grid_column": null,
            "grid_gap": null,
            "grid_row": null,
            "grid_template_areas": null,
            "grid_template_columns": null,
            "grid_template_rows": null,
            "height": null,
            "justify_content": null,
            "justify_items": null,
            "left": null,
            "margin": null,
            "max_height": null,
            "max_width": null,
            "min_height": null,
            "min_width": null,
            "object_fit": null,
            "object_position": null,
            "order": null,
            "overflow": null,
            "overflow_x": null,
            "overflow_y": null,
            "padding": null,
            "right": null,
            "top": null,
            "visibility": null,
            "width": null
          }
        },
        "242e2ee477c6436895a83a66e34aaf8c": {
          "model_module": "@jupyter-widgets/controls",
          "model_name": "DescriptionStyleModel",
          "model_module_version": "1.5.0",
          "state": {
            "_model_module": "@jupyter-widgets/controls",
            "_model_module_version": "1.5.0",
            "_model_name": "DescriptionStyleModel",
            "_view_count": null,
            "_view_module": "@jupyter-widgets/base",
            "_view_module_version": "1.2.0",
            "_view_name": "StyleView",
            "description_width": ""
          }
        },
        "b056184a64b84b91a6c99fb498337dfc": {
          "model_module": "@jupyter-widgets/controls",
          "model_name": "HBoxModel",
          "model_module_version": "1.5.0",
          "state": {
            "_dom_classes": [],
            "_model_module": "@jupyter-widgets/controls",
            "_model_module_version": "1.5.0",
            "_model_name": "HBoxModel",
            "_view_count": null,
            "_view_module": "@jupyter-widgets/controls",
            "_view_module_version": "1.5.0",
            "_view_name": "HBoxView",
            "box_style": "",
            "children": [
              "IPY_MODEL_aaa2eefef565413c8fd8c535f2894f4c",
              "IPY_MODEL_b602dbedff614f5fa3a114a6a07695ca",
              "IPY_MODEL_ca63c0cd7d624c0595da5aa95493f1ef"
            ],
            "layout": "IPY_MODEL_a7b07a6cf4974b81b7ffd4a9953d130c"
          }
        },
        "aaa2eefef565413c8fd8c535f2894f4c": {
          "model_module": "@jupyter-widgets/controls",
          "model_name": "HTMLModel",
          "model_module_version": "1.5.0",
          "state": {
            "_dom_classes": [],
            "_model_module": "@jupyter-widgets/controls",
            "_model_module_version": "1.5.0",
            "_model_name": "HTMLModel",
            "_view_count": null,
            "_view_module": "@jupyter-widgets/controls",
            "_view_module_version": "1.5.0",
            "_view_name": "HTMLView",
            "description": "",
            "description_tooltip": null,
            "layout": "IPY_MODEL_ff40b325aa4943c0bcb42a86eb174b34",
            "placeholder": "​",
            "style": "IPY_MODEL_8fa5cab2e831447f8f5df85b31193cc3",
            "value": "100%"
          }
        },
        "b602dbedff614f5fa3a114a6a07695ca": {
          "model_module": "@jupyter-widgets/controls",
          "model_name": "FloatProgressModel",
          "model_module_version": "1.5.0",
          "state": {
            "_dom_classes": [],
            "_model_module": "@jupyter-widgets/controls",
            "_model_module_version": "1.5.0",
            "_model_name": "FloatProgressModel",
            "_view_count": null,
            "_view_module": "@jupyter-widgets/controls",
            "_view_module_version": "1.5.0",
            "_view_name": "ProgressView",
            "bar_style": "success",
            "description": "",
            "description_tooltip": null,
            "layout": "IPY_MODEL_f7ef422603d84c82b7bd018231658581",
            "max": 5148,
            "min": 0,
            "orientation": "horizontal",
            "style": "IPY_MODEL_938651d7d6b449aaad469464336f156e",
            "value": 5148
          }
        },
        "ca63c0cd7d624c0595da5aa95493f1ef": {
          "model_module": "@jupyter-widgets/controls",
          "model_name": "HTMLModel",
          "model_module_version": "1.5.0",
          "state": {
            "_dom_classes": [],
            "_model_module": "@jupyter-widgets/controls",
            "_model_module_version": "1.5.0",
            "_model_name": "HTMLModel",
            "_view_count": null,
            "_view_module": "@jupyter-widgets/controls",
            "_view_module_version": "1.5.0",
            "_view_name": "HTMLView",
            "description": "",
            "description_tooltip": null,
            "layout": "IPY_MODEL_54c2f2e6dd1547c79e1745a874b83c90",
            "placeholder": "​",
            "style": "IPY_MODEL_80829cf3a9f640edb1402129de8bddfd",
            "value": " 5148/5148 [00:00&lt;00:00, 18029.83it/s]"
          }
        },
        "a7b07a6cf4974b81b7ffd4a9953d130c": {
          "model_module": "@jupyter-widgets/base",
          "model_name": "LayoutModel",
          "model_module_version": "1.2.0",
          "state": {
            "_model_module": "@jupyter-widgets/base",
            "_model_module_version": "1.2.0",
            "_model_name": "LayoutModel",
            "_view_count": null,
            "_view_module": "@jupyter-widgets/base",
            "_view_module_version": "1.2.0",
            "_view_name": "LayoutView",
            "align_content": null,
            "align_items": null,
            "align_self": null,
            "border": null,
            "bottom": null,
            "display": null,
            "flex": null,
            "flex_flow": null,
            "grid_area": null,
            "grid_auto_columns": null,
            "grid_auto_flow": null,
            "grid_auto_rows": null,
            "grid_column": null,
            "grid_gap": null,
            "grid_row": null,
            "grid_template_areas": null,
            "grid_template_columns": null,
            "grid_template_rows": null,
            "height": null,
            "justify_content": null,
            "justify_items": null,
            "left": null,
            "margin": null,
            "max_height": null,
            "max_width": null,
            "min_height": null,
            "min_width": null,
            "object_fit": null,
            "object_position": null,
            "order": null,
            "overflow": null,
            "overflow_x": null,
            "overflow_y": null,
            "padding": null,
            "right": null,
            "top": null,
            "visibility": null,
            "width": null
          }
        },
        "ff40b325aa4943c0bcb42a86eb174b34": {
          "model_module": "@jupyter-widgets/base",
          "model_name": "LayoutModel",
          "model_module_version": "1.2.0",
          "state": {
            "_model_module": "@jupyter-widgets/base",
            "_model_module_version": "1.2.0",
            "_model_name": "LayoutModel",
            "_view_count": null,
            "_view_module": "@jupyter-widgets/base",
            "_view_module_version": "1.2.0",
            "_view_name": "LayoutView",
            "align_content": null,
            "align_items": null,
            "align_self": null,
            "border": null,
            "bottom": null,
            "display": null,
            "flex": null,
            "flex_flow": null,
            "grid_area": null,
            "grid_auto_columns": null,
            "grid_auto_flow": null,
            "grid_auto_rows": null,
            "grid_column": null,
            "grid_gap": null,
            "grid_row": null,
            "grid_template_areas": null,
            "grid_template_columns": null,
            "grid_template_rows": null,
            "height": null,
            "justify_content": null,
            "justify_items": null,
            "left": null,
            "margin": null,
            "max_height": null,
            "max_width": null,
            "min_height": null,
            "min_width": null,
            "object_fit": null,
            "object_position": null,
            "order": null,
            "overflow": null,
            "overflow_x": null,
            "overflow_y": null,
            "padding": null,
            "right": null,
            "top": null,
            "visibility": null,
            "width": null
          }
        },
        "8fa5cab2e831447f8f5df85b31193cc3": {
          "model_module": "@jupyter-widgets/controls",
          "model_name": "DescriptionStyleModel",
          "model_module_version": "1.5.0",
          "state": {
            "_model_module": "@jupyter-widgets/controls",
            "_model_module_version": "1.5.0",
            "_model_name": "DescriptionStyleModel",
            "_view_count": null,
            "_view_module": "@jupyter-widgets/base",
            "_view_module_version": "1.2.0",
            "_view_name": "StyleView",
            "description_width": ""
          }
        },
        "f7ef422603d84c82b7bd018231658581": {
          "model_module": "@jupyter-widgets/base",
          "model_name": "LayoutModel",
          "model_module_version": "1.2.0",
          "state": {
            "_model_module": "@jupyter-widgets/base",
            "_model_module_version": "1.2.0",
            "_model_name": "LayoutModel",
            "_view_count": null,
            "_view_module": "@jupyter-widgets/base",
            "_view_module_version": "1.2.0",
            "_view_name": "LayoutView",
            "align_content": null,
            "align_items": null,
            "align_self": null,
            "border": null,
            "bottom": null,
            "display": null,
            "flex": null,
            "flex_flow": null,
            "grid_area": null,
            "grid_auto_columns": null,
            "grid_auto_flow": null,
            "grid_auto_rows": null,
            "grid_column": null,
            "grid_gap": null,
            "grid_row": null,
            "grid_template_areas": null,
            "grid_template_columns": null,
            "grid_template_rows": null,
            "height": null,
            "justify_content": null,
            "justify_items": null,
            "left": null,
            "margin": null,
            "max_height": null,
            "max_width": null,
            "min_height": null,
            "min_width": null,
            "object_fit": null,
            "object_position": null,
            "order": null,
            "overflow": null,
            "overflow_x": null,
            "overflow_y": null,
            "padding": null,
            "right": null,
            "top": null,
            "visibility": null,
            "width": null
          }
        },
        "938651d7d6b449aaad469464336f156e": {
          "model_module": "@jupyter-widgets/controls",
          "model_name": "ProgressStyleModel",
          "model_module_version": "1.5.0",
          "state": {
            "_model_module": "@jupyter-widgets/controls",
            "_model_module_version": "1.5.0",
            "_model_name": "ProgressStyleModel",
            "_view_count": null,
            "_view_module": "@jupyter-widgets/base",
            "_view_module_version": "1.2.0",
            "_view_name": "StyleView",
            "bar_color": null,
            "description_width": ""
          }
        },
        "54c2f2e6dd1547c79e1745a874b83c90": {
          "model_module": "@jupyter-widgets/base",
          "model_name": "LayoutModel",
          "model_module_version": "1.2.0",
          "state": {
            "_model_module": "@jupyter-widgets/base",
            "_model_module_version": "1.2.0",
            "_model_name": "LayoutModel",
            "_view_count": null,
            "_view_module": "@jupyter-widgets/base",
            "_view_module_version": "1.2.0",
            "_view_name": "LayoutView",
            "align_content": null,
            "align_items": null,
            "align_self": null,
            "border": null,
            "bottom": null,
            "display": null,
            "flex": null,
            "flex_flow": null,
            "grid_area": null,
            "grid_auto_columns": null,
            "grid_auto_flow": null,
            "grid_auto_rows": null,
            "grid_column": null,
            "grid_gap": null,
            "grid_row": null,
            "grid_template_areas": null,
            "grid_template_columns": null,
            "grid_template_rows": null,
            "height": null,
            "justify_content": null,
            "justify_items": null,
            "left": null,
            "margin": null,
            "max_height": null,
            "max_width": null,
            "min_height": null,
            "min_width": null,
            "object_fit": null,
            "object_position": null,
            "order": null,
            "overflow": null,
            "overflow_x": null,
            "overflow_y": null,
            "padding": null,
            "right": null,
            "top": null,
            "visibility": null,
            "width": null
          }
        },
        "80829cf3a9f640edb1402129de8bddfd": {
          "model_module": "@jupyter-widgets/controls",
          "model_name": "DescriptionStyleModel",
          "model_module_version": "1.5.0",
          "state": {
            "_model_module": "@jupyter-widgets/controls",
            "_model_module_version": "1.5.0",
            "_model_name": "DescriptionStyleModel",
            "_view_count": null,
            "_view_module": "@jupyter-widgets/base",
            "_view_module_version": "1.2.0",
            "_view_name": "StyleView",
            "description_width": ""
          }
        }
      }
    }
  },
  "cells": [
    {
      "cell_type": "markdown",
      "metadata": {
        "id": "view-in-github",
        "colab_type": "text"
      },
      "source": [
        "<a href=\"https://colab.research.google.com/github/DuanMingbai/PyTorch_Tutorials_cn/blob/main/Introduction%20to%20PyTorch/7_%E4%BC%98%E5%8C%96.ipynb\" target=\"_parent\"><img src=\"https://colab.research.google.com/assets/colab-badge.svg\" alt=\"Open In Colab\"/></a>"
      ]
    },
    {
      "cell_type": "markdown",
      "source": [
        "#优化模型参数"
      ],
      "metadata": {
        "id": "BoSnSC2o1pwD"
      }
    },
    {
      "cell_type": "markdown",
      "source": [
        "现在我们有了模型和数据，是时候通过在我们的数据基础上优化参数来训练，验证和测试我们的模型了。训练模型是一个迭代的过程，在每一次迭代（我们称其为*epoch*）中模型会对输出做一个预测，计算预测的误差（loss），收集误差关于其参数的导数（我们在前一章讲到的），并且使用梯度下降优化这些**参数**，有关这一步更详细的步骤，请观看这个视频https://www.youtube.com/watch?v=tIeHLnjs5U8。"
      ],
      "metadata": {
        "id": "8MpJj4FH1r_H"
      }
    },
    {
      "cell_type": "markdown",
      "source": [
        "##之前的代码"
      ],
      "metadata": {
        "id": "Ob5EK5jX4uH_"
      }
    },
    {
      "cell_type": "markdown",
      "source": [
        "我们从之前讲的Datasets & DataLoaders和创建模型中获取代码。"
      ],
      "metadata": {
        "id": "E6cKTGkQ4wCY"
      }
    },
    {
      "cell_type": "code",
      "execution_count": null,
      "metadata": {
        "id": "C6GLXJqX1M-x",
        "colab": {
          "base_uri": "https://localhost:8080/",
          "height": 439,
          "referenced_widgets": [
            "8ac5087393ee46128b13123a206628b1",
            "8b7c4c0b5b8e466082b0443510dbc4b0",
            "37349e8974754f8ca265e29465446333",
            "96e00898a5da4362a3ce5e735519da03",
            "3818186d6cf9486ca1d549de85d400c5",
            "48f649a82f8e4192aaa05599348e009b",
            "3d25db8eba124fc290a2291ef7db9b5e",
            "b8483c4e3a214f938a5c9cd4d09279a2",
            "b0a984d106c041bab789346633cb1c4c",
            "8de4037e4851469481ddc8c68e3ae52c",
            "808891a0a1ca4bda8f8bd177bb5cea96",
            "fabcc88b62334f1e8e978d1231e5b769",
            "c8793466a86d45399afe865ce218ab08",
            "cbebf2aca3af40e18df0f9529249687d",
            "be7d83a3a4514accb9f9beae54f92683",
            "c2d1910aa42946ce856860a5a404d652",
            "215ef8279f854177a574186643cd4550",
            "9be558a0c42f4f6e917998490f306a19",
            "06bbf812bc5d4b809191eda58548df69",
            "a2657fbed84b450dadafb47e3900814b",
            "6b3059f849714230893e94b7bb382e70",
            "6a553e104ea64680a29ff9b65bb4a3d1",
            "7d99dd16bad24688b8d7200712c0cd71",
            "0691b010391547bf9d99b2a362b4250f",
            "209e304bfc2b4c72ab96f9ecea218969",
            "a98a140a80ff4c0987e659e47554a510",
            "a60868d7fcbf4f5bb5d14716421bdbf9",
            "fdae6790652c4643b9af15fdca587879",
            "c8dd82ce3c5940309885d4f2ad65d53d",
            "122311c5a9704e03aa04ba98e23a4cd3",
            "657c8f267fb14d999f380c3c8ab0e662",
            "7536aaf77bfa4970880827496ffe30fe",
            "242e2ee477c6436895a83a66e34aaf8c",
            "b056184a64b84b91a6c99fb498337dfc",
            "aaa2eefef565413c8fd8c535f2894f4c",
            "b602dbedff614f5fa3a114a6a07695ca",
            "ca63c0cd7d624c0595da5aa95493f1ef",
            "a7b07a6cf4974b81b7ffd4a9953d130c",
            "ff40b325aa4943c0bcb42a86eb174b34",
            "8fa5cab2e831447f8f5df85b31193cc3",
            "f7ef422603d84c82b7bd018231658581",
            "938651d7d6b449aaad469464336f156e",
            "54c2f2e6dd1547c79e1745a874b83c90",
            "80829cf3a9f640edb1402129de8bddfd"
          ]
        },
        "outputId": "16547ba3-92a5-4be6-ff56-e87c273a20d4"
      },
      "outputs": [
        {
          "output_type": "stream",
          "name": "stdout",
          "text": [
            "Downloading http://fashion-mnist.s3-website.eu-central-1.amazonaws.com/train-images-idx3-ubyte.gz\n",
            "Downloading http://fashion-mnist.s3-website.eu-central-1.amazonaws.com/train-images-idx3-ubyte.gz to data/FashionMNIST/raw/train-images-idx3-ubyte.gz\n"
          ]
        },
        {
          "output_type": "display_data",
          "data": {
            "text/plain": [
              "  0%|          | 0/26421880 [00:00<?, ?it/s]"
            ],
            "application/vnd.jupyter.widget-view+json": {
              "version_major": 2,
              "version_minor": 0,
              "model_id": "8ac5087393ee46128b13123a206628b1"
            }
          },
          "metadata": {}
        },
        {
          "output_type": "stream",
          "name": "stdout",
          "text": [
            "Extracting data/FashionMNIST/raw/train-images-idx3-ubyte.gz to data/FashionMNIST/raw\n",
            "\n",
            "Downloading http://fashion-mnist.s3-website.eu-central-1.amazonaws.com/train-labels-idx1-ubyte.gz\n",
            "Downloading http://fashion-mnist.s3-website.eu-central-1.amazonaws.com/train-labels-idx1-ubyte.gz to data/FashionMNIST/raw/train-labels-idx1-ubyte.gz\n"
          ]
        },
        {
          "output_type": "display_data",
          "data": {
            "text/plain": [
              "  0%|          | 0/29515 [00:00<?, ?it/s]"
            ],
            "application/vnd.jupyter.widget-view+json": {
              "version_major": 2,
              "version_minor": 0,
              "model_id": "fabcc88b62334f1e8e978d1231e5b769"
            }
          },
          "metadata": {}
        },
        {
          "output_type": "stream",
          "name": "stdout",
          "text": [
            "Extracting data/FashionMNIST/raw/train-labels-idx1-ubyte.gz to data/FashionMNIST/raw\n",
            "\n",
            "Downloading http://fashion-mnist.s3-website.eu-central-1.amazonaws.com/t10k-images-idx3-ubyte.gz\n",
            "Downloading http://fashion-mnist.s3-website.eu-central-1.amazonaws.com/t10k-images-idx3-ubyte.gz to data/FashionMNIST/raw/t10k-images-idx3-ubyte.gz\n"
          ]
        },
        {
          "output_type": "display_data",
          "data": {
            "text/plain": [
              "  0%|          | 0/4422102 [00:00<?, ?it/s]"
            ],
            "application/vnd.jupyter.widget-view+json": {
              "version_major": 2,
              "version_minor": 0,
              "model_id": "7d99dd16bad24688b8d7200712c0cd71"
            }
          },
          "metadata": {}
        },
        {
          "output_type": "stream",
          "name": "stdout",
          "text": [
            "Extracting data/FashionMNIST/raw/t10k-images-idx3-ubyte.gz to data/FashionMNIST/raw\n",
            "\n",
            "Downloading http://fashion-mnist.s3-website.eu-central-1.amazonaws.com/t10k-labels-idx1-ubyte.gz\n",
            "Downloading http://fashion-mnist.s3-website.eu-central-1.amazonaws.com/t10k-labels-idx1-ubyte.gz to data/FashionMNIST/raw/t10k-labels-idx1-ubyte.gz\n"
          ]
        },
        {
          "output_type": "display_data",
          "data": {
            "text/plain": [
              "  0%|          | 0/5148 [00:00<?, ?it/s]"
            ],
            "application/vnd.jupyter.widget-view+json": {
              "version_major": 2,
              "version_minor": 0,
              "model_id": "b056184a64b84b91a6c99fb498337dfc"
            }
          },
          "metadata": {}
        },
        {
          "output_type": "stream",
          "name": "stdout",
          "text": [
            "Extracting data/FashionMNIST/raw/t10k-labels-idx1-ubyte.gz to data/FashionMNIST/raw\n",
            "\n"
          ]
        }
      ],
      "source": [
        "import torch\n",
        "from torch import nn\n",
        "from torch.utils.data import DataLoader\n",
        "from torchvision import datasets\n",
        "from torchvision.transforms import ToTensor\n",
        "\n",
        "training_data = datasets.FashionMNIST(\n",
        "    root=\"data\",\n",
        "    train=True,\n",
        "    download=True,\n",
        "    transform=ToTensor()\n",
        ")\n",
        "\n",
        "test_data = datasets.FashionMNIST(\n",
        "    root=\"data\",\n",
        "    train=False,\n",
        "    download=True,\n",
        "    transform=ToTensor()\n",
        ")\n",
        "\n",
        "train_dataloader = DataLoader(training_data, batch_size=64)\n",
        "test_dataloader = DataLoader(test_data, batch_size=64)\n",
        "\n",
        "class NeuralNetwork(nn.Module):\n",
        "    def __init__(self):\n",
        "        super(NeuralNetwork, self).__init__()\n",
        "        self.flatten = nn.Flatten()\n",
        "        self.linear_relu_stack = nn.Sequential(\n",
        "            nn.Linear(28*28, 512),\n",
        "            nn.ReLU(),\n",
        "            nn.Linear(512, 512),\n",
        "            nn.ReLU(),\n",
        "            nn.Linear(512, 10),\n",
        "        )\n",
        "\n",
        "    def forward(self, x):\n",
        "        x = self.flatten(x)\n",
        "        logits = self.linear_relu_stack(x)\n",
        "        return logits\n",
        "\n",
        "model = NeuralNetwork()"
      ]
    },
    {
      "cell_type": "markdown",
      "source": [
        "##超参数"
      ],
      "metadata": {
        "id": "VUIMCb7A5OEI"
      }
    },
    {
      "cell_type": "markdown",
      "source": [
        "超参数是一个可以调整的参数，让你控制模型优化过程。不同的超参数的值可以影响模型的训练和收敛速率（[阅读更多](https://pytorch.org/tutorials/beginner/hyperparameter_tuning_tutorial.html)关于模型超参数的调整）\n",
        "\n",
        "\\\\\n",
        "我们在训练的过程中定义如下的超参数：\n",
        "\n",
        "\n",
        "*   Number of Epochs-数据及循环的次数\n",
        "*   Batch Size-在参数更新前，经过神经网络的数据样本的数量\n",
        "*   Learning Rate-在每一个epoch/batch中应该把参数更新多少，在训练过程中，小的lr会导致缓慢的学习速率，大的lr会导致不可预测的行为。\n",
        "\n"
      ],
      "metadata": {
        "id": "uHb7XbcC5QXP"
      }
    },
    {
      "cell_type": "code",
      "source": [
        "learning_rate = 1e-3\n",
        "batch_size = 64\n",
        "epochs = 5"
      ],
      "metadata": {
        "id": "UYUHCF9S_b0G"
      },
      "execution_count": null,
      "outputs": []
    },
    {
      "cell_type": "markdown",
      "source": [
        "##优化循环"
      ],
      "metadata": {
        "id": "jMvUGyEL_d52"
      }
    },
    {
      "cell_type": "markdown",
      "source": [
        "一旦我们设置了超参数，我们可以训练并优化我们的模型通过一个优化循环。每一个优化循环的迭代被称作**epoch**。\n",
        "\n",
        "\\\\\n",
        "每一个epoch由两个主要部分组成：\n",
        "\n",
        "\n",
        "*   训练循环-在训练集上迭代，并且尝试通过收敛找到最优参数\n",
        "*   验证循环-在验证集上迭代，并检查模型性能是否提高\n",
        "\n",
        "\n",
        "\\\\\n",
        "\n",
        "\\\\\n",
        "让我们简要熟悉一下训练循环中使用的一些概念。跳转到[这里](https://pytorch.org/tutorials/beginner/basics/optimization_tutorial.html#full-impl-label)看循环的完整实现\n",
        "\n"
      ],
      "metadata": {
        "id": "JHnN6-A-_jkN"
      }
    },
    {
      "cell_type": "markdown",
      "source": [
        "##损失函数"
      ],
      "metadata": {
        "id": "q1VdzfIgHRtq"
      }
    },
    {
      "cell_type": "markdown",
      "source": [
        "当呈现一些训练数据时，我们未经训练的网络可能不会给出正确的答案。**损失函数**测量目标值和获取的结果之间的不同程度，并且在训练过程中我们希望最小化损失函数。使用我们给定的数据样本作为输入并将其与真是数据的标签比较来计算loss。\n",
        "\n",
        "\\\\\n",
        "通常的损失函数包含对于回归任务的nn.MSELoss(Mean Square Error)，对于分类任务的nn.NLLLoss（负对数似然）。nn.CrossEntropyLoss结合了```nn.LogSoftmax```和```nn.NLLLoss```。\n",
        "\n",
        "\\\\\n",
        "我们将模型输出的logits送到nn.CrossEntropyLoss中，这样可以对logits进行归一化并且计算预测误差。"
      ],
      "metadata": {
        "id": "nyXDHBVbHXQX"
      }
    },
    {
      "cell_type": "code",
      "source": [
        "# Initialize the loss function\n",
        "loss_fn = nn.CrossEntropyLoss()"
      ],
      "metadata": {
        "id": "_t1BXwN3aL4r"
      },
      "execution_count": null,
      "outputs": []
    },
    {
      "cell_type": "markdown",
      "source": [
        "##优化器"
      ],
      "metadata": {
        "id": "e84TbZqDTd5K"
      }
    },
    {
      "cell_type": "markdown",
      "source": [
        "优化在每一个训练的步骤中，通过调整模型参数去减少误差的过程。优化算法定义了这个过程如何被实现（在这个例子中我们是使用随机梯度下降）。所有优化的逻辑被封装在```optimizer```这个类中。在这里，我们使用SGD优化器；此外，PyTorch还有许多不同的优化器，例如ADAM和RMSProp，对于不同类型的模型和数据效果更好。"
      ],
      "metadata": {
        "id": "Yygtnz40aSEZ"
      }
    },
    {
      "cell_type": "code",
      "source": [
        "optimizer = torch.optim.SGD(model.parameters(), lr=learning_rate)"
      ],
      "metadata": {
        "id": "CFb2jkVK5Nxg"
      },
      "execution_count": null,
      "outputs": []
    },
    {
      "cell_type": "markdown",
      "source": [
        "在训练循环中，优化发生在一下三步"
      ],
      "metadata": {
        "id": "uaf75TrLdNbu"
      }
    },
    {
      "cell_type": "markdown",
      "source": [
        "\n",
        "\n",
        "*   调用optimizer.zero_grad()去重置模型的参数，梯度默认被加起来防止重复计算，我们会在每次迭代的时候将他们归0\n",
        "*   通过调用```loss.backward()```函数来反向传播预测的loss，PyTorch存储每个参数的wrt的loss。\n",
        "*   一旦我们有了梯度，我们调用```optimizer.step()```通过在反向传播中收集的梯度来调整参数。\n"
      ],
      "metadata": {
        "id": "zRcr5H3fdYXB"
      }
    },
    {
      "cell_type": "markdown",
      "source": [
        "##整个的操作"
      ],
      "metadata": {
        "id": "3ZVhSLRLdYBD"
      }
    },
    {
      "cell_type": "markdown",
      "source": [
        "我们定义```train_loop```来循环我们的优化代码，用```test_loop```根据测试数据来评估模型的效果"
      ],
      "metadata": {
        "id": "MhjQIsUJ1YCy"
      }
    },
    {
      "cell_type": "code",
      "source": [
        "def train_loop(dataloader, model, loss_fn, optimizer):\n",
        "    size = len(dataloader.dataset)\n",
        "    for batch, (X, y) in enumerate(dataloader):\n",
        "        # Compute prediction and loss\n",
        "        pred = model(X)\n",
        "        loss = loss_fn(pred, y)\n",
        "\n",
        "        # Backpropagation\n",
        "        optimizer.zero_grad()\n",
        "        loss.backward()\n",
        "        optimizer.step()\n",
        "\n",
        "        if batch % 100 == 0:\n",
        "            loss, current = loss.item(), batch * len(X)\n",
        "            print(f\"loss: {loss:>7f}  [{current:>5d}/{size:>5d}]\")\n",
        "\n",
        "\n",
        "def test_loop(dataloader, model, loss_fn):\n",
        "    size = len(dataloader.dataset)\n",
        "    num_batches = len(dataloader)\n",
        "    test_loss, correct = 0, 0\n",
        "\n",
        "    with torch.no_grad():\n",
        "        for X, y in dataloader:\n",
        "            pred = model(X)\n",
        "            test_loss += loss_fn(pred, y).item()\n",
        "            correct += (pred.argmax(1) == y).type(torch.float).sum().item()\n",
        "\n",
        "    test_loss /= num_batches\n",
        "    correct /= size\n",
        "    print(f\"Test Error: \\n Accuracy: {(100*correct):>0.1f}%, Avg loss: {test_loss:>8f} \\n\")"
      ],
      "metadata": {
        "id": "ZRJ1jcvMdS4H"
      },
      "execution_count": null,
      "outputs": []
    },
    {
      "cell_type": "markdown",
      "source": [
        "我们初始化loss函数和优化器，并把他们送进```train_loop```和```test_loop```，任意的增加模型迭代的次数来增加模型性能的改进。"
      ],
      "metadata": {
        "id": "2IhgeAHZ2ugH"
      }
    },
    {
      "cell_type": "code",
      "source": [
        "loss_fn = nn.CrossEntropyLoss()\n",
        "optimizer = torch.optim.SGD(model.parameters(), lr=learning_rate)\n",
        "\n",
        "epochs = 10\n",
        "for t in range(epochs):\n",
        "    print(f\"Epoch {t+1}\\n-------------------------------\")\n",
        "    train_loop(train_dataloader, model, loss_fn, optimizer)\n",
        "    test_loop(test_dataloader, model, loss_fn)\n",
        "print(\"Done!\")"
      ],
      "metadata": {
        "colab": {
          "base_uri": "https://localhost:8080/"
        },
        "id": "FW0RLm203G7t",
        "outputId": "76773d61-710e-4b7b-a4db-45bd71a6a2b9"
      },
      "execution_count": null,
      "outputs": [
        {
          "output_type": "stream",
          "name": "stdout",
          "text": [
            "Epoch 1\n",
            "-------------------------------\n",
            "loss: 2.314211  [    0/60000]\n",
            "loss: 2.293885  [ 6400/60000]\n",
            "loss: 2.274530  [12800/60000]\n",
            "loss: 2.259786  [19200/60000]\n",
            "loss: 2.245999  [25600/60000]\n",
            "loss: 2.219560  [32000/60000]\n",
            "loss: 2.226327  [38400/60000]\n",
            "loss: 2.194648  [44800/60000]\n",
            "loss: 2.202966  [51200/60000]\n",
            "loss: 2.158596  [57600/60000]\n",
            "Test Error: \n",
            " Accuracy: 41.9%, Avg loss: 2.156872 \n",
            "\n",
            "Epoch 2\n",
            "-------------------------------\n",
            "loss: 2.177207  [    0/60000]\n",
            "loss: 2.163566  [ 6400/60000]\n",
            "loss: 2.108867  [12800/60000]\n",
            "loss: 2.118869  [19200/60000]\n",
            "loss: 2.068160  [25600/60000]\n",
            "loss: 2.008330  [32000/60000]\n",
            "loss: 2.041187  [38400/60000]\n",
            "loss: 1.961023  [44800/60000]\n",
            "loss: 1.986273  [51200/60000]\n",
            "loss: 1.900053  [57600/60000]\n",
            "Test Error: \n",
            " Accuracy: 53.0%, Avg loss: 1.901964 \n",
            "\n",
            "Epoch 3\n",
            "-------------------------------\n",
            "loss: 1.941878  [    0/60000]\n",
            "loss: 1.911184  [ 6400/60000]\n",
            "loss: 1.800246  [12800/60000]\n",
            "loss: 1.836955  [19200/60000]\n",
            "loss: 1.715138  [25600/60000]\n",
            "loss: 1.669181  [32000/60000]\n",
            "loss: 1.700645  [38400/60000]\n",
            "loss: 1.595392  [44800/60000]\n",
            "loss: 1.640336  [51200/60000]\n",
            "loss: 1.521354  [57600/60000]\n",
            "Test Error: \n",
            " Accuracy: 59.8%, Avg loss: 1.539635 \n",
            "\n",
            "Epoch 4\n",
            "-------------------------------\n",
            "loss: 1.610891  [    0/60000]\n",
            "loss: 1.573632  [ 6400/60000]\n",
            "loss: 1.429309  [12800/60000]\n",
            "loss: 1.491738  [19200/60000]\n",
            "loss: 1.361715  [25600/60000]\n",
            "loss: 1.360818  [32000/60000]\n",
            "loss: 1.377806  [38400/60000]\n",
            "loss: 1.297399  [44800/60000]\n",
            "loss: 1.346148  [51200/60000]\n",
            "loss: 1.235856  [57600/60000]\n",
            "Test Error: \n",
            " Accuracy: 63.4%, Avg loss: 1.263594 \n",
            "\n",
            "Epoch 5\n",
            "-------------------------------\n",
            "loss: 1.342900  [    0/60000]\n",
            "loss: 1.325761  [ 6400/60000]\n",
            "loss: 1.164657  [12800/60000]\n",
            "loss: 1.259028  [19200/60000]\n",
            "loss: 1.126005  [25600/60000]\n",
            "loss: 1.154825  [32000/60000]\n",
            "loss: 1.174925  [38400/60000]\n",
            "loss: 1.109092  [44800/60000]\n",
            "loss: 1.162120  [51200/60000]\n",
            "loss: 1.068851  [57600/60000]\n",
            "Test Error: \n",
            " Accuracy: 65.1%, Avg loss: 1.092163 \n",
            "\n",
            "Epoch 6\n",
            "-------------------------------\n",
            "loss: 1.164459  [    0/60000]\n",
            "loss: 1.168751  [ 6400/60000]\n",
            "loss: 0.992143  [12800/60000]\n",
            "loss: 1.116244  [19200/60000]\n",
            "loss: 0.981464  [25600/60000]\n",
            "loss: 1.018010  [32000/60000]\n",
            "loss: 1.050896  [38400/60000]\n",
            "loss: 0.989959  [44800/60000]\n",
            "loss: 1.044814  [51200/60000]\n",
            "loss: 0.966705  [57600/60000]\n",
            "Test Error: \n",
            " Accuracy: 66.1%, Avg loss: 0.983014 \n",
            "\n",
            "Epoch 7\n",
            "-------------------------------\n",
            "loss: 1.042691  [    0/60000]\n",
            "loss: 1.067982  [ 6400/60000]\n",
            "loss: 0.874793  [12800/60000]\n",
            "loss: 1.022585  [19200/60000]\n",
            "loss: 0.891128  [25600/60000]\n",
            "loss: 0.923243  [32000/60000]\n",
            "loss: 0.970404  [38400/60000]\n",
            "loss: 0.912756  [44800/60000]\n",
            "loss: 0.964620  [51200/60000]\n",
            "loss: 0.899336  [57600/60000]\n",
            "Test Error: \n",
            " Accuracy: 67.2%, Avg loss: 0.909432 \n",
            "\n",
            "Epoch 8\n",
            "-------------------------------\n",
            "loss: 0.954094  [    0/60000]\n",
            "loss: 0.999036  [ 6400/60000]\n",
            "loss: 0.791240  [12800/60000]\n",
            "loss: 0.957188  [19200/60000]\n",
            "loss: 0.830979  [25600/60000]\n",
            "loss: 0.854607  [32000/60000]\n",
            "loss: 0.914130  [38400/60000]\n",
            "loss: 0.861205  [44800/60000]\n",
            "loss: 0.907208  [51200/60000]\n",
            "loss: 0.851597  [57600/60000]\n",
            "Test Error: \n",
            " Accuracy: 68.5%, Avg loss: 0.856920 \n",
            "\n",
            "Epoch 9\n",
            "-------------------------------\n",
            "loss: 0.886664  [    0/60000]\n",
            "loss: 0.948264  [ 6400/60000]\n",
            "loss: 0.728678  [12800/60000]\n",
            "loss: 0.909274  [19200/60000]\n",
            "loss: 0.788122  [25600/60000]\n",
            "loss: 0.803482  [32000/60000]\n",
            "loss: 0.871715  [38400/60000]\n",
            "loss: 0.825299  [44800/60000]\n",
            "loss: 0.864533  [51200/60000]\n"
          ]
        }
      ]
    },
    {
      "cell_type": "markdown",
      "source": [
        "##更多阅读\n",
        "\n",
        "\\\\\n",
        "\n",
        "\n",
        "*   [Loss Functions](https://pytorch.org/docs/stable/nn.html#loss-functions)\n",
        "*   [torch.optim](https://pytorch.org/docs/stable/optim.html)\n",
        "*   [Warmstart Training a Model](https://pytorch.org/tutorials/recipes/recipes/warmstarting_model_using_parameters_from_a_different_model.html)\n",
        "\n"
      ],
      "metadata": {
        "id": "He5E5Dwx3P7k"
      }
    }
  ]
}